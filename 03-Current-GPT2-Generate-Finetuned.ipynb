{
 "nbformat": 4,
 "nbformat_minor": 0,
 "metadata": {
  "accelerator": "GPU",
  "colab": {
   "name": "03-Current-GPT2-generate-finetuned.ipynb",
   "provenance": [],
   "collapsed_sections": []
  },
  "kernelspec": {
   "display_name": "Python 3",
   "name": "python3"
  },
  "language_info": {
   "name": "python"
  }
 },
 "cells": [
  {
   "cell_type": "markdown",
   "metadata": {
    "id": "FNeXNKF6Zv59"
   },
   "source": [
    "# Current.cam workshop - Volumetric Personas\n",
    "## GPT-2 Text Generation Notebook\n",
    "\n",
    "Made by [Artem Konevskikh](http://aiculedssul.net/) for [Current.cam](https://current.cam/)\n",
    "\n",
    "Based on notebook by [Max Woolf](http://minimaxir.com). For more about `gpt-2-simple`, you can visit [this GitHub repository](https://github.com/minimaxir/gpt-2-simple)."
   ]
  },
  {
   "cell_type": "markdown",
   "metadata": {
    "id": "VM69Hoc5j27B"
   },
   "source": [
    "## Installation"
   ]
  },
  {
   "cell_type": "code",
   "metadata": {
    "cellView": "form",
    "id": "-du42C9dZsEy"
   },
   "source": [
    "#@title Imports\n",
    "#@markdown By running this cell we are loading libraries needed to work with GPT2\n",
    "!pip install git+https://github.com/minimaxir/gpt-2-simple\n",
    "import gpt_2_simple as gpt2\n",
    "from datetime import datetime"
   ],
   "execution_count": null,
   "outputs": []
  },
  {
   "cell_type": "markdown",
   "metadata": {
    "id": "wgWDuRBNnMyu"
   },
   "source": [
    "## Text Generation\n",
    "\n",
    "In this notebook we will use the model you finetuned on your texts previously."
   ]
  },
  {
   "cell_type": "code",
   "metadata": {
    "cellView": "form",
    "id": "vC5sZT3IdTOV",
    "pycharm": {
     "name": "#%%\n"
    }
   },
   "source": [
    "#@title Load a Finetuned Model Checkpoint\n",
    "\n",
    "#@markdown Running this cell will copy the `.rar` checkpoint file from your Google Drive into the Colaboratory VM.\n",
    "\n",
    "#@markdown **IMPORTANT NOTE:** If you want to rerun this cell, **restart the VM first** (Runtime -> Restart Runtime). You will need to rerun imports.\n",
    "\n",
    "#@markdown Run name\n",
    "run_name='gpt-ai' #@param {type: \"string\"}\n",
    "sess = gpt2.start_tf_sess()\n",
    "gpt2.load_gpt2(sess, run_name=run_name)"
   ],
   "execution_count": null,
   "outputs": []
  }
 ]
}